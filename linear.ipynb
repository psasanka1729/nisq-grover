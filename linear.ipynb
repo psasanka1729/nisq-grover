{
 "cells": [
  {
   "cell_type": "code",
   "execution_count": 444,
   "id": "960226ea",
   "metadata": {},
   "outputs": [],
   "source": [
    "using SparseArrays\n",
    "using LinearAlgebra\n",
    "using Random"
   ]
  },
  {
   "cell_type": "code",
   "execution_count": 445,
   "id": "fee85258",
   "metadata": {},
   "outputs": [],
   "source": [
    "Rx(theta) = exp(-1im*theta*[1 1;1 1]/2);\n",
    "#Rx(theta) = [cos(theta/2) -1im*sin(theta/2) ; -1im*sin(theta/2)  cos(theta/2)];#"
   ]
  },
  {
   "cell_type": "code",
   "execution_count": 446,
   "id": "a6baf754",
   "metadata": {},
   "outputs": [
    {
     "data": {
      "text/plain": [
       "2×2 Matrix{ComplexF64}:\n",
       " -0.0+0.0im   1.0+0.0im\n",
       "  1.0+0.0im  -0.0+0.0im"
      ]
     },
     "execution_count": 446,
     "metadata": {},
     "output_type": "execute_result"
    }
   ],
   "source": [
    "round.(-exp(-1im*pi*([1 1;1 1]/2)); digits = 3)"
   ]
  },
  {
   "cell_type": "code",
   "execution_count": 447,
   "id": "3e94cb75",
   "metadata": {},
   "outputs": [],
   "source": [
    "Ry(theta) = [cos(theta/2) -sin(theta/2) ; sin(theta/2) cos(theta/2)];"
   ]
  },
  {
   "cell_type": "code",
   "execution_count": 448,
   "id": "57d46b23",
   "metadata": {},
   "outputs": [],
   "source": [
    "Pauli_Z = [1 0 ; 0 -1];"
   ]
  },
  {
   "cell_type": "code",
   "execution_count": 449,
   "id": "71c44eff",
   "metadata": {},
   "outputs": [],
   "source": [
    "Hadamard(noise) = Ry(pi/2+noise)*Pauli_Z;"
   ]
  },
  {
   "cell_type": "code",
   "execution_count": 450,
   "id": "15544ab6",
   "metadata": {},
   "outputs": [],
   "source": [
    "X = [0 1;1 0];"
   ]
  },
  {
   "cell_type": "code",
   "execution_count": 451,
   "id": "834fc4d2",
   "metadata": {},
   "outputs": [],
   "source": [
    "\"\"\"\n",
    "\n",
    "Following function takes a 2x2 matrix (Gate) and qubit position (Qubit) and\n",
    "returns the resultant matrix.\n",
    "\n",
    "For example, the matrix for the gate U acting on the 3-rd qubit for N=5\n",
    "qubit system is given by   I (x) I (x) U (x) I (x) I; where (x) is the\n",
    "tensor product.\n",
    "\n",
    "\"\"\"\n",
    "\n",
    "function Matrix_Gate(Gate, Qubit) # Previously known as multi qubit gate.\n",
    "    \n",
    "    ## The case Qubit=1 is treated differently because we need to\n",
    "    # initialize the matrix as U before starting the kronecker product.\n",
    "    \n",
    "    if Qubit == 1\n",
    "        \n",
    "        M = sparse(Gate)\n",
    "        for i=2:L\n",
    "            M = kron(M, sparse([1 0;0 1]))\n",
    "        end\n",
    "        \n",
    "    else\n",
    "        \n",
    "        M = sparse([1 0;0 1])\n",
    "        for i=2:L\n",
    "            if i == Qubit\n",
    "                M = kron(M, Gate)\n",
    "            else\n",
    "                M = kron(M, sparse([1 0;0 1]))\n",
    "            end\n",
    "        end\n",
    "    end\n",
    "    \n",
    "    return M\n",
    "end;"
   ]
  },
  {
   "cell_type": "code",
   "execution_count": 452,
   "id": "cff18e2d",
   "metadata": {},
   "outputs": [],
   "source": [
    "Identity(dimension) = 1* Matrix(I, dimension, dimension);\n",
    "#Identity(3)"
   ]
  },
  {
   "cell_type": "markdown",
   "id": "639565c5",
   "metadata": {},
   "source": [
    "## Single controlled unitary gate"
   ]
  },
  {
   "cell_type": "code",
   "execution_count": 453,
   "id": "fcaf652b",
   "metadata": {},
   "outputs": [],
   "source": [
    "\"\"\"\n",
    "\n",
    "The following function returns a controlled U gate matrix.\n",
    "\n",
    "Input  : c (integer), t(integer), U (unitary operator).\n",
    "Output : Matrix of the multicontrolled U gate with control qubit c and target qubit t.\n",
    "\n",
    "\"\"\"\n",
    "\n",
    "function CU(U,c,t)\n",
    "    \n",
    "    I2 = sparse([1 0;0 1])\n",
    "    Z = sparse([1 0;0 -1])\n",
    "\n",
    "    PI_0 = (I2+Z)/2\n",
    "    PI_1 = (I2-Z)/2\n",
    "     \n",
    "    #function Rx(Noise)\n",
    "        #A = cos((pi+Noise)/2)\n",
    "        #B = -1im*sin((pi+Noise)/2)\n",
    "        #return 1im*[A B;B A]\n",
    "    #end\n",
    "    \n",
    "    Matrices = Dict(\"I\" => I2,\"PI_0\" => PI_0,\"U\" => U, \"PI_1\" => PI_1)\n",
    "    \n",
    "    p0 = fill(\"I\", L)\n",
    "    p1 = fill(\"I\", L)\n",
    "    \n",
    "    p0[c] = \"PI_0\"\n",
    "    p1[c] = \"PI_1\"\n",
    "    p1[t] = \"U\"\n",
    "\n",
    "    \n",
    "    PI_0_matrix = Matrices[p0[1]]\n",
    "    for i = 2:L\n",
    "        PI_0_matrix = kron(PI_0_matrix,Matrices[p0[i]])\n",
    "    end        \n",
    "        \n",
    "    PI_1_matrix = Matrices[p1[1]]   \n",
    "    for i = 2:L\n",
    "        PI_1_matrix = kron(PI_1_matrix,Matrices[p1[i]])        \n",
    "    end\n",
    "           \n",
    "    #return p0,p1\n",
    "    return PI_0_matrix + PI_1_matrix     \n",
    "end;               "
   ]
  },
  {
   "cell_type": "markdown",
   "id": "e6388fcd",
   "metadata": {},
   "source": [
    "## Multi controlled unitary gate"
   ]
  },
  {
   "cell_type": "code",
   "execution_count": 503,
   "id": "7bf314c0",
   "metadata": {},
   "outputs": [],
   "source": [
    "\"\"\"\n",
    "\n",
    "The following returns a multicontrolled U gate matrix.\n",
    "\n",
    "Input  : c (list), t(integer), U (unitary operator).\n",
    "Output : Matrix of the multicontrolled U gate with control qubits c and target qubit t.\n",
    "\n",
    "\"\"\"\n",
    "\n",
    "function MCU(c,t,U)\n",
    "    \n",
    "    p0 = fill(\"I\", L)\n",
    "    p1 = fill(\"I\", L)\n",
    "\n",
    "    \n",
    "    if typeof(c) == Int64\n",
    "        p0[c] = \"PI_1\"\n",
    "        p1[t] = \"PI_1\"\n",
    "        \n",
    "    else\n",
    "        for i in c\n",
    "            p0[i] = \"PI_1\"\n",
    "            p1[i] = \"PI_1\"\n",
    "        end\n",
    "    end\n",
    "    \n",
    "    p0[t] = \"I\"\n",
    "    p1[t] = \"U\"\n",
    "\n",
    "    \n",
    "    I = sparse([1 0;0 1])\n",
    "    Z = sparse([1 0;0 -1])\n",
    "    X = sparse([0 1;1 0])\n",
    "    PI_0 = (I+Z)/2\n",
    "    PI_1 = (I-Z)/2\n",
    "     \n",
    "    Matrices = Dict(\"I\" => I,\"PI_0\" => PI_0,\"U\" => U, \"PI_1\" => PI_1)\n",
    "    \n",
    "    PI_0_matrix = Matrices[p0[1]]\n",
    "    for i = 2:L\n",
    "        PI_0_matrix = kron(PI_0_matrix,Matrices[p0[i]])\n",
    "    end        \n",
    "        \n",
    "    PI_1_matrix = Matrices[p1[1]]   \n",
    "    for i = 2:L\n",
    "        PI_1_matrix = kron(PI_1_matrix,Matrices[p1[i]])        \n",
    "    end\n",
    "             \n",
    "    # The identity in the following line needs to be replaced.\n",
    "    return Identity(2^L) - PI_0_matrix + PI_1_matrix     \n",
    "end;             "
   ]
  },
  {
   "cell_type": "markdown",
   "id": "7ba92ec8",
   "metadata": {},
   "source": [
    "# Circuit for general L"
   ]
  },
  {
   "cell_type": "code",
   "execution_count": 504,
   "id": "6e3a2073",
   "metadata": {},
   "outputs": [],
   "source": [
    "L = 10\n",
    "Number_Of_Gates = 2*L^2-6*L+5 + 2*(L+1)\n",
    "Random.seed!(3000)\n",
    "NOISE = 2*rand(Float64,Number_Of_Gates).-1;\n",
    "#NOISE = zeros(Number_Of_Gates);"
   ]
  },
  {
   "cell_type": "code",
   "execution_count": 505,
   "id": "7da24d9d",
   "metadata": {},
   "outputs": [],
   "source": [
    "A = ones(2^L,2^L);\n",
    "U_x = (2/2^L)*A-Identity(2^L);"
   ]
  },
  {
   "cell_type": "code",
   "execution_count": 506,
   "id": "f4211ae7",
   "metadata": {},
   "outputs": [],
   "source": [
    "function MCX_Reconstructed(DELTA)\n",
    "    Noise_Counter = 1\n",
    "    C_1 = [];\n",
    "    C_2 = [];\n",
    "    C_3 = [];\n",
    "    C_4 = [];\n",
    "    C_5 = [];\n",
    "    C_6 = [];\n",
    "    MCX = Identity(2^L);\n",
    "    # C_1.\n",
    "    for i = 1:L-2\n",
    "        for j = 1:i\n",
    "            push!(C_1,[j,L-i,L-i+j])\n",
    "            \n",
    "            epsilon = NOISE[Noise_Counter]\n",
    "            MCX = CU(Rx((pi/2^j)+DELTA*epsilon), L-i, L-i+j)*MCX\n",
    "            Noise_Counter += 1\n",
    "            \n",
    "        end\n",
    "    end\n",
    "\n",
    "    # C_2.\n",
    "    for i = 2:L\n",
    "        push!(C_2,[i-2,1,i])\n",
    "        \n",
    "        epsilon = NOISE[Noise_Counter]\n",
    "        MCX = CU(Rx((pi/2^(i-2))+DELTA*epsilon), 1, i)*MCX\n",
    "        Noise_Counter += 1\n",
    "        \n",
    "    end\n",
    "\n",
    "    # C3 = - C1.\n",
    "    for i = L-2:-1:1\n",
    "        for j = i:-1:1\n",
    "            push!(C_3,[j,L-i,L-i+j])\n",
    "            \n",
    "            epsilon = NOISE[Noise_Counter]\n",
    "            MCX = CU(Rx((-pi/2^j)+DELTA*epsilon), L-i, L-i+j)*MCX\n",
    "            Noise_Counter += 1\n",
    "        end\n",
    "    end\n",
    "\n",
    "    # C_4.\n",
    "    for i = 1:L-3\n",
    "        for j = 1:i\n",
    "            push!(C_4,[j,L-i-1,L-i+j-1])\n",
    "            \n",
    "            epsilon = NOISE[Noise_Counter]\n",
    "            MCX = CU(Rx((pi/2^j)+DELTA*epsilon), L-i-1, L-i-1+j)*MCX\n",
    "            Noise_Counter += 1\n",
    "        end    \n",
    "    end\n",
    "\n",
    "    # C_5.\n",
    "    for i = 2:L-1\n",
    "        push!(C_5,[i-2,1,i])\n",
    "        \n",
    "        epsilon = NOISE[Noise_Counter]\n",
    "        MCX = CU(Rx((-pi/2^(i-2))+DELTA*epsilon), 1, i)*MCX\n",
    "        Noise_Counter += 1\n",
    "        \n",
    "    end\n",
    "\n",
    "    # C6 = - C4.\n",
    "    for i = L-3:-1:1\n",
    "        for j = i:-1:1\n",
    "            push!(C_6,[j,L-i-1,L-i-1+j])\n",
    "            \n",
    "            epsilon = NOISE[Noise_Counter]\n",
    "            MCX = CU(Rx((-pi/2^j)+DELTA*epsilon), L-i-1, L-i-1+j)*MCX\n",
    "            Noise_Counter += 1\n",
    "            \n",
    "        end    \n",
    "    end\n",
    "    \n",
    "    return MCX\n",
    "end    ;"
   ]
  },
  {
   "cell_type": "code",
   "execution_count": 507,
   "id": "9156f889",
   "metadata": {},
   "outputs": [
    {
     "name": "stdout",
     "output_type": "stream",
     "text": [
      "Total number of gates = 145"
     ]
    }
   ],
   "source": [
    "# Total number of gates.\n",
    "print(\"Total number of gates = \",2*L^2-6*L+5)"
   ]
  },
  {
   "cell_type": "code",
   "execution_count": 508,
   "id": "af56d130",
   "metadata": {},
   "outputs": [],
   "source": [
    "#MCX[2^L,2^L-1],MCX[2^L-1,2^L]\n",
    "#length(C_1)+length(C_2)+length(C_3)+length(C_4)+length(C_5)+length(C_6)"
   ]
  },
  {
   "cell_type": "code",
   "execution_count": 509,
   "id": "2dc5a2f5",
   "metadata": {},
   "outputs": [],
   "source": [
    "XHL_Gates = []\n",
    "for i = 1:L-1\n",
    "    push!(XHL_Gates,[\"X\",i])\n",
    "end    \n",
    "push!(XHL_Gates,[\"H\",L])\n",
    "\n",
    "XHR_Gates = [[\"H\",L]]\n",
    "for i = 1:L-1\n",
    "    push!(XHR_Gates,[\"X\",i])\n",
    "end    "
   ]
  },
  {
   "cell_type": "code",
   "execution_count": 517,
   "id": "ee27d04d",
   "metadata": {},
   "outputs": [],
   "source": [
    "function U0_reconstructed(DELTA)\n",
    "    \n",
    "    Noise_Counter = 2*L^2-6*L+5;\n",
    "    \n",
    "    XHL_Matrix = Identity(2^L)\n",
    "    for i in XHL_Gates\n",
    "        \n",
    "        if i[1] == \"H\"\n",
    "            \n",
    "            epsilon = NOISE[Noise_Counter]\n",
    "            XHL_Matrix = XHL_Matrix*Matrix_Gate(Hadamard(DELTA*epsilon), i[2]) \n",
    "            Noise_Counter += 1 \n",
    "            \n",
    "        elseif i[1] == \"X\"\n",
    "            \n",
    "            epsilon = NOISE[Noise_Counter]\n",
    "            XHL_Matrix = XHL_Matrix*Matrix_Gate(1im*Rx(pi+DELTA*epsilon),i[2])\n",
    "            Noise_Counter += 1 \n",
    "            \n",
    "        end\n",
    "    end\n",
    "    \n",
    "    XHR_Matrix = Identity(2^L)\n",
    "    for j in XHR_Gates\n",
    "        if j[1] == \"H\"\n",
    "            \n",
    "            epsilon = NOISE[Noise_Counter]\n",
    "            XHR_Matrix = XHR_Matrix*Matrix_Gate(Hadamard(DELTA*epsilon), j[2]) \n",
    "            Noise_Counter += 1 \n",
    "            \n",
    "        elseif j[1] == \"X\"\n",
    "            \n",
    "            epsilon = NOISE[Noise_Counter]\n",
    "            XHR_Matrix = XHR_Matrix*Matrix_Gate(1im*Rx(pi+DELTA*epsilon),j[2])\n",
    "            Noise_Counter += 1 \n",
    "        end\n",
    "    end\n",
    "    \n",
    "    return XHL_Matrix*MCX_Reconstructed(DELTA)*XHR_Matrix\n",
    "end;"
   ]
  },
  {
   "cell_type": "code",
   "execution_count": 512,
   "id": "73e4d778",
   "metadata": {},
   "outputs": [],
   "source": [
    "#mcx = round.(MCX_Reconstructed(0.0);digits = 3);"
   ]
  },
  {
   "cell_type": "code",
   "execution_count": 513,
   "id": "aa168db1",
   "metadata": {},
   "outputs": [],
   "source": [
    "#u0 = round.(U0_reconstructed(0.0); digits = 3);"
   ]
  },
  {
   "cell_type": "code",
   "execution_count": 515,
   "id": "7a849a91",
   "metadata": {},
   "outputs": [],
   "source": [
    "Grover(DELTA) = U_x * U0_reconstructed(DELTA);"
   ]
  },
  {
   "cell_type": "code",
   "execution_count": 519,
   "id": "80c28c26",
   "metadata": {},
   "outputs": [],
   "source": [
    "#Grover(0.1);"
   ]
  }
 ],
 "metadata": {
  "kernelspec": {
   "display_name": "Julia 1.7.2",
   "language": "julia",
   "name": "julia-1.7"
  },
  "language_info": {
   "file_extension": ".jl",
   "mimetype": "application/julia",
   "name": "julia",
   "version": "1.7.2"
  }
 },
 "nbformat": 4,
 "nbformat_minor": 5
}
